{
 "cells": [
  {
   "cell_type": "markdown",
   "id": "4c865154",
   "metadata": {},
   "source": [
    "# Telecom Customer Churn Analysis"
   ]
  },
  {
   "cell_type": "markdown",
   "id": "4891a645",
   "metadata": {},
   "source": [
    "## Importing libraries & reading data"
   ]
  },
  {
   "cell_type": "code",
   "execution_count": 2,
   "id": "1795b5da",
   "metadata": {},
   "outputs": [],
   "source": [
    "import pandas as pd\n",
    "import matplotlib.pyplot as plt\n",
    "import seaborn as sns"
   ]
  },
  {
   "cell_type": "code",
   "execution_count": 3,
   "id": "f4315d74",
   "metadata": {},
   "outputs": [],
   "source": [
    "df = pd.read_csv('telecom_customer_churn.csv')"
   ]
  },
  {
   "cell_type": "code",
   "execution_count": 4,
   "id": "7f2ac22c",
   "metadata": {},
   "outputs": [
    {
     "name": "stdout",
     "output_type": "stream",
     "text": [
      "<class 'pandas.core.frame.DataFrame'>\n",
      "RangeIndex: 7043 entries, 0 to 7042\n",
      "Data columns (total 38 columns):\n",
      " #   Column                             Non-Null Count  Dtype  \n",
      "---  ------                             --------------  -----  \n",
      " 0   Customer ID                        7043 non-null   object \n",
      " 1   Gender                             7043 non-null   object \n",
      " 2   Age                                7043 non-null   int64  \n",
      " 3   Married                            7043 non-null   object \n",
      " 4   Number of Dependents               7043 non-null   int64  \n",
      " 5   City                               7043 non-null   object \n",
      " 6   Zip Code                           7043 non-null   int64  \n",
      " 7   Latitude                           7043 non-null   float64\n",
      " 8   Longitude                          7043 non-null   float64\n",
      " 9   Number of Referrals                7043 non-null   int64  \n",
      " 10  Tenure in Months                   7043 non-null   int64  \n",
      " 11  Offer                              3166 non-null   object \n",
      " 12  Phone Service                      7043 non-null   object \n",
      " 13  Avg Monthly Long Distance Charges  6361 non-null   float64\n",
      " 14  Multiple Lines                     6361 non-null   object \n",
      " 15  Internet Service                   7043 non-null   object \n",
      " 16  Internet Type                      5517 non-null   object \n",
      " 17  Avg Monthly GB Download            5517 non-null   float64\n",
      " 18  Online Security                    5517 non-null   object \n",
      " 19  Online Backup                      5517 non-null   object \n",
      " 20  Device Protection Plan             5517 non-null   object \n",
      " 21  Premium Tech Support               5517 non-null   object \n",
      " 22  Streaming TV                       5517 non-null   object \n",
      " 23  Streaming Movies                   5517 non-null   object \n",
      " 24  Streaming Music                    5517 non-null   object \n",
      " 25  Unlimited Data                     5517 non-null   object \n",
      " 26  Contract                           7043 non-null   object \n",
      " 27  Paperless Billing                  7043 non-null   object \n",
      " 28  Payment Method                     7043 non-null   object \n",
      " 29  Monthly Charge                     7043 non-null   float64\n",
      " 30  Total Charges                      7043 non-null   float64\n",
      " 31  Total Refunds                      7043 non-null   float64\n",
      " 32  Total Extra Data Charges           7043 non-null   int64  \n",
      " 33  Total Long Distance Charges        7043 non-null   float64\n",
      " 34  Total Revenue                      7043 non-null   float64\n",
      " 35  Customer Status                    7043 non-null   object \n",
      " 36  Churn Category                     1869 non-null   object \n",
      " 37  Churn Reason                       1869 non-null   object \n",
      "dtypes: float64(9), int64(6), object(23)\n",
      "memory usage: 2.0+ MB\n"
     ]
    }
   ],
   "source": [
    "df.info()"
   ]
  },
  {
   "cell_type": "code",
   "execution_count": 5,
   "id": "1af76bac",
   "metadata": {},
   "outputs": [
    {
     "data": {
      "text/html": [
       "<div>\n",
       "<style scoped>\n",
       "    .dataframe tbody tr th:only-of-type {\n",
       "        vertical-align: middle;\n",
       "    }\n",
       "\n",
       "    .dataframe tbody tr th {\n",
       "        vertical-align: top;\n",
       "    }\n",
       "\n",
       "    .dataframe thead th {\n",
       "        text-align: right;\n",
       "    }\n",
       "</style>\n",
       "<table border=\"1\" class=\"dataframe\">\n",
       "  <thead>\n",
       "    <tr style=\"text-align: right;\">\n",
       "      <th></th>\n",
       "      <th>Customer ID</th>\n",
       "      <th>Gender</th>\n",
       "      <th>Age</th>\n",
       "      <th>Married</th>\n",
       "      <th>Number of Dependents</th>\n",
       "      <th>City</th>\n",
       "      <th>Zip Code</th>\n",
       "      <th>Latitude</th>\n",
       "      <th>Longitude</th>\n",
       "      <th>Number of Referrals</th>\n",
       "      <th>Tenure in Months</th>\n",
       "      <th>Offer</th>\n",
       "      <th>Phone Service</th>\n",
       "      <th>Avg Monthly Long Distance Charges</th>\n",
       "      <th>Multiple Lines</th>\n",
       "      <th>Internet Service</th>\n",
       "      <th>Internet Type</th>\n",
       "      <th>Avg Monthly GB Download</th>\n",
       "      <th>Online Security</th>\n",
       "      <th>Online Backup</th>\n",
       "      <th>Device Protection Plan</th>\n",
       "      <th>Premium Tech Support</th>\n",
       "      <th>Streaming TV</th>\n",
       "      <th>Streaming Movies</th>\n",
       "      <th>Streaming Music</th>\n",
       "      <th>Unlimited Data</th>\n",
       "      <th>Contract</th>\n",
       "      <th>Paperless Billing</th>\n",
       "      <th>Payment Method</th>\n",
       "      <th>Monthly Charge</th>\n",
       "      <th>Total Charges</th>\n",
       "      <th>Total Refunds</th>\n",
       "      <th>Total Extra Data Charges</th>\n",
       "      <th>Total Long Distance Charges</th>\n",
       "      <th>Total Revenue</th>\n",
       "      <th>Customer Status</th>\n",
       "      <th>Churn Category</th>\n",
       "      <th>Churn Reason</th>\n",
       "    </tr>\n",
       "  </thead>\n",
       "  <tbody>\n",
       "    <tr>\n",
       "      <th>0</th>\n",
       "      <td>0002-ORFBO</td>\n",
       "      <td>Female</td>\n",
       "      <td>37</td>\n",
       "      <td>Yes</td>\n",
       "      <td>0</td>\n",
       "      <td>Frazier Park</td>\n",
       "      <td>93225</td>\n",
       "      <td>34.827662</td>\n",
       "      <td>-118.999073</td>\n",
       "      <td>2</td>\n",
       "      <td>9</td>\n",
       "      <td>NaN</td>\n",
       "      <td>Yes</td>\n",
       "      <td>42.39</td>\n",
       "      <td>No</td>\n",
       "      <td>Yes</td>\n",
       "      <td>Cable</td>\n",
       "      <td>16.0</td>\n",
       "      <td>No</td>\n",
       "      <td>Yes</td>\n",
       "      <td>No</td>\n",
       "      <td>Yes</td>\n",
       "      <td>Yes</td>\n",
       "      <td>No</td>\n",
       "      <td>No</td>\n",
       "      <td>Yes</td>\n",
       "      <td>One Year</td>\n",
       "      <td>Yes</td>\n",
       "      <td>Credit Card</td>\n",
       "      <td>65.6</td>\n",
       "      <td>593.30</td>\n",
       "      <td>0.00</td>\n",
       "      <td>0</td>\n",
       "      <td>381.51</td>\n",
       "      <td>974.81</td>\n",
       "      <td>Stayed</td>\n",
       "      <td>NaN</td>\n",
       "      <td>NaN</td>\n",
       "    </tr>\n",
       "    <tr>\n",
       "      <th>1</th>\n",
       "      <td>0003-MKNFE</td>\n",
       "      <td>Male</td>\n",
       "      <td>46</td>\n",
       "      <td>No</td>\n",
       "      <td>0</td>\n",
       "      <td>Glendale</td>\n",
       "      <td>91206</td>\n",
       "      <td>34.162515</td>\n",
       "      <td>-118.203869</td>\n",
       "      <td>0</td>\n",
       "      <td>9</td>\n",
       "      <td>NaN</td>\n",
       "      <td>Yes</td>\n",
       "      <td>10.69</td>\n",
       "      <td>Yes</td>\n",
       "      <td>Yes</td>\n",
       "      <td>Cable</td>\n",
       "      <td>10.0</td>\n",
       "      <td>No</td>\n",
       "      <td>No</td>\n",
       "      <td>No</td>\n",
       "      <td>No</td>\n",
       "      <td>No</td>\n",
       "      <td>Yes</td>\n",
       "      <td>Yes</td>\n",
       "      <td>No</td>\n",
       "      <td>Month-to-Month</td>\n",
       "      <td>No</td>\n",
       "      <td>Credit Card</td>\n",
       "      <td>-4.0</td>\n",
       "      <td>542.40</td>\n",
       "      <td>38.33</td>\n",
       "      <td>10</td>\n",
       "      <td>96.21</td>\n",
       "      <td>610.28</td>\n",
       "      <td>Stayed</td>\n",
       "      <td>NaN</td>\n",
       "      <td>NaN</td>\n",
       "    </tr>\n",
       "    <tr>\n",
       "      <th>2</th>\n",
       "      <td>0004-TLHLJ</td>\n",
       "      <td>Male</td>\n",
       "      <td>50</td>\n",
       "      <td>No</td>\n",
       "      <td>0</td>\n",
       "      <td>Costa Mesa</td>\n",
       "      <td>92627</td>\n",
       "      <td>33.645672</td>\n",
       "      <td>-117.922613</td>\n",
       "      <td>0</td>\n",
       "      <td>4</td>\n",
       "      <td>Offer E</td>\n",
       "      <td>Yes</td>\n",
       "      <td>33.65</td>\n",
       "      <td>No</td>\n",
       "      <td>Yes</td>\n",
       "      <td>Fiber Optic</td>\n",
       "      <td>30.0</td>\n",
       "      <td>No</td>\n",
       "      <td>No</td>\n",
       "      <td>Yes</td>\n",
       "      <td>No</td>\n",
       "      <td>No</td>\n",
       "      <td>No</td>\n",
       "      <td>No</td>\n",
       "      <td>Yes</td>\n",
       "      <td>Month-to-Month</td>\n",
       "      <td>Yes</td>\n",
       "      <td>Bank Withdrawal</td>\n",
       "      <td>73.9</td>\n",
       "      <td>280.85</td>\n",
       "      <td>0.00</td>\n",
       "      <td>0</td>\n",
       "      <td>134.60</td>\n",
       "      <td>415.45</td>\n",
       "      <td>Churned</td>\n",
       "      <td>Competitor</td>\n",
       "      <td>Competitor had better devices</td>\n",
       "    </tr>\n",
       "    <tr>\n",
       "      <th>3</th>\n",
       "      <td>0011-IGKFF</td>\n",
       "      <td>Male</td>\n",
       "      <td>78</td>\n",
       "      <td>Yes</td>\n",
       "      <td>0</td>\n",
       "      <td>Martinez</td>\n",
       "      <td>94553</td>\n",
       "      <td>38.014457</td>\n",
       "      <td>-122.115432</td>\n",
       "      <td>1</td>\n",
       "      <td>13</td>\n",
       "      <td>Offer D</td>\n",
       "      <td>Yes</td>\n",
       "      <td>27.82</td>\n",
       "      <td>No</td>\n",
       "      <td>Yes</td>\n",
       "      <td>Fiber Optic</td>\n",
       "      <td>4.0</td>\n",
       "      <td>No</td>\n",
       "      <td>Yes</td>\n",
       "      <td>Yes</td>\n",
       "      <td>No</td>\n",
       "      <td>Yes</td>\n",
       "      <td>Yes</td>\n",
       "      <td>No</td>\n",
       "      <td>Yes</td>\n",
       "      <td>Month-to-Month</td>\n",
       "      <td>Yes</td>\n",
       "      <td>Bank Withdrawal</td>\n",
       "      <td>98.0</td>\n",
       "      <td>1237.85</td>\n",
       "      <td>0.00</td>\n",
       "      <td>0</td>\n",
       "      <td>361.66</td>\n",
       "      <td>1599.51</td>\n",
       "      <td>Churned</td>\n",
       "      <td>Dissatisfaction</td>\n",
       "      <td>Product dissatisfaction</td>\n",
       "    </tr>\n",
       "    <tr>\n",
       "      <th>4</th>\n",
       "      <td>0013-EXCHZ</td>\n",
       "      <td>Female</td>\n",
       "      <td>75</td>\n",
       "      <td>Yes</td>\n",
       "      <td>0</td>\n",
       "      <td>Camarillo</td>\n",
       "      <td>93010</td>\n",
       "      <td>34.227846</td>\n",
       "      <td>-119.079903</td>\n",
       "      <td>3</td>\n",
       "      <td>3</td>\n",
       "      <td>NaN</td>\n",
       "      <td>Yes</td>\n",
       "      <td>7.38</td>\n",
       "      <td>No</td>\n",
       "      <td>Yes</td>\n",
       "      <td>Fiber Optic</td>\n",
       "      <td>11.0</td>\n",
       "      <td>No</td>\n",
       "      <td>No</td>\n",
       "      <td>No</td>\n",
       "      <td>Yes</td>\n",
       "      <td>Yes</td>\n",
       "      <td>No</td>\n",
       "      <td>No</td>\n",
       "      <td>Yes</td>\n",
       "      <td>Month-to-Month</td>\n",
       "      <td>Yes</td>\n",
       "      <td>Credit Card</td>\n",
       "      <td>83.9</td>\n",
       "      <td>267.40</td>\n",
       "      <td>0.00</td>\n",
       "      <td>0</td>\n",
       "      <td>22.14</td>\n",
       "      <td>289.54</td>\n",
       "      <td>Churned</td>\n",
       "      <td>Dissatisfaction</td>\n",
       "      <td>Network reliability</td>\n",
       "    </tr>\n",
       "  </tbody>\n",
       "</table>\n",
       "</div>"
      ],
      "text/plain": [
       "  Customer ID  Gender  Age Married  Number of Dependents          City  \\\n",
       "0  0002-ORFBO  Female   37     Yes                     0  Frazier Park   \n",
       "1  0003-MKNFE    Male   46      No                     0      Glendale   \n",
       "2  0004-TLHLJ    Male   50      No                     0    Costa Mesa   \n",
       "3  0011-IGKFF    Male   78     Yes                     0      Martinez   \n",
       "4  0013-EXCHZ  Female   75     Yes                     0     Camarillo   \n",
       "\n",
       "   Zip Code   Latitude   Longitude  Number of Referrals  Tenure in Months  \\\n",
       "0     93225  34.827662 -118.999073                    2                 9   \n",
       "1     91206  34.162515 -118.203869                    0                 9   \n",
       "2     92627  33.645672 -117.922613                    0                 4   \n",
       "3     94553  38.014457 -122.115432                    1                13   \n",
       "4     93010  34.227846 -119.079903                    3                 3   \n",
       "\n",
       "     Offer Phone Service  Avg Monthly Long Distance Charges Multiple Lines  \\\n",
       "0      NaN           Yes                              42.39             No   \n",
       "1      NaN           Yes                              10.69            Yes   \n",
       "2  Offer E           Yes                              33.65             No   \n",
       "3  Offer D           Yes                              27.82             No   \n",
       "4      NaN           Yes                               7.38             No   \n",
       "\n",
       "  Internet Service Internet Type  Avg Monthly GB Download Online Security  \\\n",
       "0              Yes         Cable                     16.0              No   \n",
       "1              Yes         Cable                     10.0              No   \n",
       "2              Yes   Fiber Optic                     30.0              No   \n",
       "3              Yes   Fiber Optic                      4.0              No   \n",
       "4              Yes   Fiber Optic                     11.0              No   \n",
       "\n",
       "  Online Backup Device Protection Plan Premium Tech Support Streaming TV  \\\n",
       "0           Yes                     No                  Yes          Yes   \n",
       "1            No                     No                   No           No   \n",
       "2            No                    Yes                   No           No   \n",
       "3           Yes                    Yes                   No          Yes   \n",
       "4            No                     No                  Yes          Yes   \n",
       "\n",
       "  Streaming Movies Streaming Music Unlimited Data        Contract  \\\n",
       "0               No              No            Yes        One Year   \n",
       "1              Yes             Yes             No  Month-to-Month   \n",
       "2               No              No            Yes  Month-to-Month   \n",
       "3              Yes              No            Yes  Month-to-Month   \n",
       "4               No              No            Yes  Month-to-Month   \n",
       "\n",
       "  Paperless Billing   Payment Method  Monthly Charge  Total Charges  \\\n",
       "0               Yes      Credit Card            65.6         593.30   \n",
       "1                No      Credit Card            -4.0         542.40   \n",
       "2               Yes  Bank Withdrawal            73.9         280.85   \n",
       "3               Yes  Bank Withdrawal            98.0        1237.85   \n",
       "4               Yes      Credit Card            83.9         267.40   \n",
       "\n",
       "   Total Refunds  Total Extra Data Charges  Total Long Distance Charges  \\\n",
       "0           0.00                         0                       381.51   \n",
       "1          38.33                        10                        96.21   \n",
       "2           0.00                         0                       134.60   \n",
       "3           0.00                         0                       361.66   \n",
       "4           0.00                         0                        22.14   \n",
       "\n",
       "   Total Revenue Customer Status   Churn Category  \\\n",
       "0         974.81          Stayed              NaN   \n",
       "1         610.28          Stayed              NaN   \n",
       "2         415.45         Churned       Competitor   \n",
       "3        1599.51         Churned  Dissatisfaction   \n",
       "4         289.54         Churned  Dissatisfaction   \n",
       "\n",
       "                    Churn Reason  \n",
       "0                            NaN  \n",
       "1                            NaN  \n",
       "2  Competitor had better devices  \n",
       "3        Product dissatisfaction  \n",
       "4            Network reliability  "
      ]
     },
     "execution_count": 5,
     "metadata": {},
     "output_type": "execute_result"
    }
   ],
   "source": [
    "pd.set_option('display.max_columns', None)\n",
    "df.head()"
   ]
  },
  {
   "cell_type": "code",
   "execution_count": 6,
   "id": "a2d2ebd1",
   "metadata": {},
   "outputs": [
    {
     "name": "stdout",
     "output_type": "stream",
     "text": [
      "Number of NaN values in each column:\n",
      "Customer ID                             0\n",
      "Gender                                  0\n",
      "Age                                     0\n",
      "Married                                 0\n",
      "Number of Dependents                    0\n",
      "City                                    0\n",
      "Zip Code                                0\n",
      "Latitude                                0\n",
      "Longitude                               0\n",
      "Number of Referrals                     0\n",
      "Tenure in Months                        0\n",
      "Offer                                3877\n",
      "Phone Service                           0\n",
      "Avg Monthly Long Distance Charges     682\n",
      "Multiple Lines                        682\n",
      "Internet Service                        0\n",
      "Internet Type                        1526\n",
      "Avg Monthly GB Download              1526\n",
      "Online Security                      1526\n",
      "Online Backup                        1526\n",
      "Device Protection Plan               1526\n",
      "Premium Tech Support                 1526\n",
      "Streaming TV                         1526\n",
      "Streaming Movies                     1526\n",
      "Streaming Music                      1526\n",
      "Unlimited Data                       1526\n",
      "Contract                                0\n",
      "Paperless Billing                       0\n",
      "Payment Method                          0\n",
      "Monthly Charge                          0\n",
      "Total Charges                           0\n",
      "Total Refunds                           0\n",
      "Total Extra Data Charges                0\n",
      "Total Long Distance Charges             0\n",
      "Total Revenue                           0\n",
      "Customer Status                         0\n",
      "Churn Category                       5174\n",
      "Churn Reason                         5174\n",
      "dtype: int64\n"
     ]
    }
   ],
   "source": [
    "nan_counts = df.isnull().sum()\n",
    "print(\"Number of NaN values in each column:\")\n",
    "print(nan_counts)"
   ]
  },
  {
   "cell_type": "markdown",
   "id": "3c50a640",
   "metadata": {},
   "source": [
    "## Exploratory Data Analysis\n",
    "\n",
    "Since the data which we are going to use for answer few questions, we will do the data cleaning after EDA."
   ]
  },
  {
   "cell_type": "code",
   "execution_count": 68,
   "id": "5c0abee3",
   "metadata": {},
   "outputs": [],
   "source": [
    "sns.set_style('darkgrid')"
   ]
  },
  {
   "cell_type": "markdown",
   "id": "4c8bea9e",
   "metadata": {},
   "source": [
    "#### Question 1 : How many customers joined during the last quarter?\n",
    "\n",
    "**454** customers joined the company during last quarter."
   ]
  },
  {
   "cell_type": "code",
   "execution_count": 38,
   "id": "e942a539",
   "metadata": {},
   "outputs": [
    {
     "data": {
      "text/plain": [
       "454"
      ]
     },
     "execution_count": 38,
     "metadata": {},
     "output_type": "execute_result"
    }
   ],
   "source": [
    "len(df[(df['Tenure in Months'] <= 3) & (df['Customer Status'] == 'Joined')])"
   ]
  },
  {
   "cell_type": "markdown",
   "id": "7a7a12d2",
   "metadata": {},
   "source": [
    "#### Question 2 : What is the customer profile for a customer that churned, joined, & stayed? Are they different?\n",
    "\n",
    "From the chart \"Age Distributio by Customer Status\", we don't se any pattern in the age of the customer. Nearly equal number of customers can be seen in all the 3 customer status groups. Same goes for the rest of the two bar charts."
   ]
  },
  {
   "cell_type": "code",
   "execution_count": 41,
   "id": "bda32d85",
   "metadata": {},
   "outputs": [],
   "source": [
    "demographics = df[['Customer ID', 'Gender', 'Age', 'Married', 'Number of Dependents','Customer Status']]"
   ]
  },
  {
   "cell_type": "code",
   "execution_count": 85,
   "id": "95376ad3",
   "metadata": {},
   "outputs": [
    {
     "data": {
      "image/png": "[encoded data removed]",
      "text/plain": [
       "<Figure size 1000x400 with 1 Axes>"
      ]
     },
     "metadata": {},
     "output_type": "display_data"
    }
   ],
   "source": [
    "plt.figure(figsize=(10,4))\n",
    "sns.histplot(data=demographics[demographics['Customer Status'] == 'Stayed'], x='Age', label='Stayed')\n",
    "sns.histplot(data=demographics[demographics['Customer Status'] == 'Churned'], x='Age',label='Churned')\n",
    "sns.histplot(data=demographics[demographics['Customer Status'] == 'Joined'], x='Age',label='Joined')\n",
    "plt.legend()\n",
    "plt.xlabel('Age', fontsize=12, labelpad=15)\n",
    "plt.ylabel('Count', fontsize=12, labelpad=15)\n",
    "plt.xticks(fontsize=10)\n",
    "plt.yticks(fontsize=10)\n",
    "plt.title('Age Distribution by Customer Status', fontsize=15, pad=15)\n",
    "plt.show()"
   ]
  },
  {
   "cell_type": "code",
   "execution_count": 91,
   "id": "aa1e2fa9",
   "metadata": {},
   "outputs": [
    {
     "data": {
      "image/png": "[encoded data removed]",
      "text/plain": [
       "<Figure size 800x400 with 1 Axes>"
      ]
     },
     "metadata": {},
     "output_type": "display_data"
    }
   ],
   "source": [
    "plt.figure(figsize=(8,4))\n",
    "sns.countplot(data=df, x='Customer Status', hue='Gender')\n",
    "plt.xlabel('Customer Status', fontsize=12, labelpad=15)\n",
    "plt.ylabel('Count', fontsize=12, labelpad=15)\n",
    "plt.xticks(fontsize=10)\n",
    "plt.yticks(fontsize=10)\n",
    "plt.title('Customer Count by Gender', fontsize=15, pad=15)\n",
    "plt.show()"
   ]
  },
  {
   "cell_type": "code",
   "execution_count": 96,
   "id": "23c5edfa",
   "metadata": {},
   "outputs": [
    {
     "data": {
      "image/png": "[encoded data removed]",
      "text/plain": [
       "<Figure size 800x400 with 1 Axes>"
      ]
     },
     "metadata": {},
     "output_type": "display_data"
    }
   ],
   "source": [
    "plt.figure(figsize=(8,4))\n",
    "sns.countplot(data=df, x='Customer Status', hue='Married')\n",
    "plt.xlabel('Customer Status', fontsize=12, labelpad=15)\n",
    "plt.ylabel('Count', fontsize=12, labelpad=15)\n",
    "plt.xticks(fontsize=10)\n",
    "plt.yticks(fontsize=10)\n",
    "plt.title('Customer Count by Marital Status', fontsize=15, pad=15)\n",
    "plt.show()"
   ]
  },
  {
   "cell_type": "markdown",
   "id": "a2a4182c",
   "metadata": {},
   "source": [
    "#### Question 3 : What seem to be the key drivers of customer churn?\n",
    "\n",
    "- The first key driver of customer churn seems to be a potential competitor and if we look at the second table below, out of top 5 churn reasons, 3 reason are related to competitor mentioning either competitor had better device or service. \n",
    "\n",
    "- The second key driver of churn is dissatisfaction & attitude of either support person or service provider."
   ]
  },
  {
   "cell_type": "code",
   "execution_count": 105,
   "id": "ec0a66cd",
   "metadata": {},
   "outputs": [
    {
     "data": {
      "text/html": [
       "<div>\n",
       "<style scoped>\n",
       "    .dataframe tbody tr th:only-of-type {\n",
       "        vertical-align: middle;\n",
       "    }\n",
       "\n",
       "    .dataframe tbody tr th {\n",
       "        vertical-align: top;\n",
       "    }\n",
       "\n",
       "    .dataframe thead th {\n",
       "        text-align: right;\n",
       "    }\n",
       "</style>\n",
       "<table border=\"1\" class=\"dataframe\">\n",
       "  <thead>\n",
       "    <tr style=\"text-align: right;\">\n",
       "      <th></th>\n",
       "      <th>count</th>\n",
       "    </tr>\n",
       "    <tr>\n",
       "      <th>Churn Category</th>\n",
       "      <th></th>\n",
       "    </tr>\n",
       "  </thead>\n",
       "  <tbody>\n",
       "    <tr>\n",
       "      <th>Competitor</th>\n",
       "      <td>841</td>\n",
       "    </tr>\n",
       "    <tr>\n",
       "      <th>Dissatisfaction</th>\n",
       "      <td>321</td>\n",
       "    </tr>\n",
       "    <tr>\n",
       "      <th>Attitude</th>\n",
       "      <td>314</td>\n",
       "    </tr>\n",
       "    <tr>\n",
       "      <th>Price</th>\n",
       "      <td>211</td>\n",
       "    </tr>\n",
       "    <tr>\n",
       "      <th>Other</th>\n",
       "      <td>182</td>\n",
       "    </tr>\n",
       "  </tbody>\n",
       "</table>\n",
       "</div>"
      ],
      "text/plain": [
       "                 count\n",
       "Churn Category        \n",
       "Competitor         841\n",
       "Dissatisfaction    321\n",
       "Attitude           314\n",
       "Price              211\n",
       "Other              182"
      ]
     },
     "execution_count": 105,
     "metadata": {},
     "output_type": "execute_result"
    }
   ],
   "source": [
    "pd.DataFrame(df[df['Customer Status'] == 'Churned']['Churn Category'].value_counts())"
   ]
  },
  {
   "cell_type": "code",
   "execution_count": 104,
   "id": "67086843",
   "metadata": {},
   "outputs": [
    {
     "data": {
      "text/html": [
       "<div>\n",
       "<style scoped>\n",
       "    .dataframe tbody tr th:only-of-type {\n",
       "        vertical-align: middle;\n",
       "    }\n",
       "\n",
       "    .dataframe tbody tr th {\n",
       "        vertical-align: top;\n",
       "    }\n",
       "\n",
       "    .dataframe thead th {\n",
       "        text-align: right;\n",
       "    }\n",
       "</style>\n",
       "<table border=\"1\" class=\"dataframe\">\n",
       "  <thead>\n",
       "    <tr style=\"text-align: right;\">\n",
       "      <th></th>\n",
       "      <th>count</th>\n",
       "    </tr>\n",
       "    <tr>\n",
       "      <th>Churn Reason</th>\n",
       "      <th></th>\n",
       "    </tr>\n",
       "  </thead>\n",
       "  <tbody>\n",
       "    <tr>\n",
       "      <th>Competitor had better devices</th>\n",
       "      <td>313</td>\n",
       "    </tr>\n",
       "    <tr>\n",
       "      <th>Competitor made better offer</th>\n",
       "      <td>311</td>\n",
       "    </tr>\n",
       "    <tr>\n",
       "      <th>Attitude of support person</th>\n",
       "      <td>220</td>\n",
       "    </tr>\n",
       "    <tr>\n",
       "      <th>Don't know</th>\n",
       "      <td>130</td>\n",
       "    </tr>\n",
       "    <tr>\n",
       "      <th>Competitor offered more data</th>\n",
       "      <td>117</td>\n",
       "    </tr>\n",
       "    <tr>\n",
       "      <th>Competitor offered higher download speeds</th>\n",
       "      <td>100</td>\n",
       "    </tr>\n",
       "    <tr>\n",
       "      <th>Attitude of service provider</th>\n",
       "      <td>94</td>\n",
       "    </tr>\n",
       "    <tr>\n",
       "      <th>Price too high</th>\n",
       "      <td>78</td>\n",
       "    </tr>\n",
       "    <tr>\n",
       "      <th>Product dissatisfaction</th>\n",
       "      <td>77</td>\n",
       "    </tr>\n",
       "    <tr>\n",
       "      <th>Network reliability</th>\n",
       "      <td>72</td>\n",
       "    </tr>\n",
       "    <tr>\n",
       "      <th>Long distance charges</th>\n",
       "      <td>64</td>\n",
       "    </tr>\n",
       "    <tr>\n",
       "      <th>Service dissatisfaction</th>\n",
       "      <td>63</td>\n",
       "    </tr>\n",
       "    <tr>\n",
       "      <th>Moved</th>\n",
       "      <td>46</td>\n",
       "    </tr>\n",
       "    <tr>\n",
       "      <th>Extra data charges</th>\n",
       "      <td>39</td>\n",
       "    </tr>\n",
       "    <tr>\n",
       "      <th>Limited range of services</th>\n",
       "      <td>37</td>\n",
       "    </tr>\n",
       "    <tr>\n",
       "      <th>Poor expertise of online support</th>\n",
       "      <td>31</td>\n",
       "    </tr>\n",
       "    <tr>\n",
       "      <th>Lack of affordable download/upload speed</th>\n",
       "      <td>30</td>\n",
       "    </tr>\n",
       "    <tr>\n",
       "      <th>Lack of self-service on Website</th>\n",
       "      <td>29</td>\n",
       "    </tr>\n",
       "    <tr>\n",
       "      <th>Poor expertise of phone support</th>\n",
       "      <td>12</td>\n",
       "    </tr>\n",
       "    <tr>\n",
       "      <th>Deceased</th>\n",
       "      <td>6</td>\n",
       "    </tr>\n",
       "  </tbody>\n",
       "</table>\n",
       "</div>"
      ],
      "text/plain": [
       "                                           count\n",
       "Churn Reason                                    \n",
       "Competitor had better devices                313\n",
       "Competitor made better offer                 311\n",
       "Attitude of support person                   220\n",
       "Don't know                                   130\n",
       "Competitor offered more data                 117\n",
       "Competitor offered higher download speeds    100\n",
       "Attitude of service provider                  94\n",
       "Price too high                                78\n",
       "Product dissatisfaction                       77\n",
       "Network reliability                           72\n",
       "Long distance charges                         64\n",
       "Service dissatisfaction                       63\n",
       "Moved                                         46\n",
       "Extra data charges                            39\n",
       "Limited range of services                     37\n",
       "Poor expertise of online support              31\n",
       "Lack of affordable download/upload speed      30\n",
       "Lack of self-service on Website               29\n",
       "Poor expertise of phone support               12\n",
       "Deceased                                       6"
      ]
     },
     "execution_count": 104,
     "metadata": {},
     "output_type": "execute_result"
    }
   ],
   "source": [
    "pd.DataFrame(df[df['Customer Status'] == 'Churned']['Churn Reason'].value_counts())"
   ]
  },
  {
   "cell_type": "markdown",
   "id": "b9412bc8",
   "metadata": {},
   "source": [
    "#### Question 4 : Is the company losing high value customers? If so, how can they retain them?\n",
    "\n",
    "Company does not seem to be losing high value customers. Looking at the histogram chart below, Most of the customers who have left the company after customers with revenue between 0 to 1,000 dollars. However, more that 1000 customers have left generating 500 dollars revenue per customer on an average resulting in loss of approx. $5,00,000. Company needs to focus on those customers as well."
   ]
  },
  {
   "cell_type": "code",
   "execution_count": 103,
   "id": "1a054b52",
   "metadata": {},
   "outputs": [
    {
     "data": {
      "image/png": "[encoded data removed]",
      "text/plain": [
       "<Figure size 1000x400 with 1 Axes>"
      ]
     },
     "metadata": {},
     "output_type": "display_data"
    }
   ],
   "source": [
    "plt.figure(figsize=(10,4))\n",
    "plt.hist(data=df[df['Customer Status'] == 'Churned'], x='Total Revenue')\n",
    "plt.xlabel('Total Revenue', fontsize=12, labelpad=15)\n",
    "plt.ylabel('Count', fontsize=12, labelpad=15)\n",
    "plt.xticks(fontsize=10)\n",
    "plt.yticks(fontsize=10)\n",
    "plt.title('Revenue Distribution by Churned Customer', fontsize=15, pad=15)\n",
    "plt.show()"
   ]
  },
  {
   "cell_type": "markdown",
   "id": "241b5607",
   "metadata": {},
   "source": [
    "## ML Model for Churn Prediction"
   ]
  },
  {
   "cell_type": "markdown",
   "id": "09a4a054",
   "metadata": {},
   "source": [
    "### Preparing data for model"
   ]
  },
  {
   "cell_type": "code",
   "execution_count": 108,
   "id": "1cbdd638",
   "metadata": {},
   "outputs": [],
   "source": [
    "# Replacing NaN with mean value in 'Avg Monthly Long Distance Charges'\n",
    "df['Avg Monthly Long Distance Charges'] = df['Avg Monthly Long Distance Charges'].fillna(df['Avg Monthly Long Distance Charges'].mean())"
   ]
  },
  {
   "cell_type": "code",
   "execution_count": 145,
   "id": "166a85ba",
   "metadata": {},
   "outputs": [],
   "source": [
    "ml_data = df.drop(['Customer ID','Gender','Married','Number of Dependents','City', 'Zip Code', 'Latitude', 'Longitude', 'Offer','Number of Referrals','Multiple Lines','Internet Type', 'Avg Monthly GB Download',\n",
    "       'Online Security', 'Online Backup', 'Device Protection Plan',\n",
    "       'Premium Tech Support', 'Streaming TV', 'Streaming Movies', 'Paperless Billing','Payment Method',\n",
    "       'Streaming Music', 'Unlimited Data','Churn Category', 'Churn Reason'], axis=1)"
   ]
  },
  {
   "cell_type": "markdown",
   "id": "7b9a2e87",
   "metadata": {},
   "source": [
    "### Creating dummy columns"
   ]
  },
  {
   "cell_type": "code",
   "execution_count": 146,
   "id": "46f3d901",
   "metadata": {},
   "outputs": [],
   "source": [
    "def get_dummy(value):\n",
    "    if value == 'Yes':\n",
    "        return 1\n",
    "    else:\n",
    "        return 0"
   ]
  },
  {
   "cell_type": "code",
   "execution_count": 147,
   "id": "f79d16aa",
   "metadata": {},
   "outputs": [],
   "source": [
    "ml_data['Phone Service'] = ml_data['Phone Service'].apply(get_dummy)\n",
    "ml_data['Internet Service'] = ml_data['Internet Service'].apply(get_dummy)"
   ]
  },
  {
   "cell_type": "code",
   "execution_count": 144,
   "id": "3fc25569",
   "metadata": {},
   "outputs": [],
   "source": [
    "def get_contract_dummy(value):\n",
    "    if value == 'Month-to-Month':\n",
    "        return 0\n",
    "    elif value == 'One Year':\n",
    "        return 1\n",
    "    else:\n",
    "        return 2"
   ]
  },
  {
   "cell_type": "code",
   "execution_count": 149,
   "id": "19da5bce",
   "metadata": {},
   "outputs": [],
   "source": [
    "ml_data['Contract'] = ml_data['Contract'].apply(get_contract_dummy)"
   ]
  },
  {
   "cell_type": "code",
   "execution_count": 151,
   "id": "2993dfee",
   "metadata": {},
   "outputs": [],
   "source": [
    "def cust_stat_dummy(value):\n",
    "    if value == 'Churned':\n",
    "        return 0\n",
    "    elif value == 'Stayed':\n",
    "        return 1\n",
    "    else:\n",
    "        return 2"
   ]
  },
  {
   "cell_type": "code",
   "execution_count": 152,
   "id": "61ad4300",
   "metadata": {},
   "outputs": [],
   "source": [
    "ml_data['Customer Status'] = ml_data['Customer Status'].apply(cust_stat_dummy)"
   ]
  },
  {
   "cell_type": "markdown",
   "id": "7878655f",
   "metadata": {},
   "source": [
    "## Model Building"
   ]
  },
  {
   "cell_type": "markdown",
   "id": "1a1903b7",
   "metadata": {},
   "source": [
    "#### Using StandardScaler to scaler down the data in same numerical range."
   ]
  },
  {
   "cell_type": "code",
   "execution_count": 154,
   "id": "5af9dfc4",
   "metadata": {},
   "outputs": [],
   "source": [
    "X = ml_data.drop('Customer Status', axis=1)\n",
    "y = ml_data['Customer Status']"
   ]
  },
  {
   "cell_type": "code",
   "execution_count": 155,
   "id": "d36f487f",
   "metadata": {},
   "outputs": [],
   "source": [
    "from sklearn.preprocessing import StandardScaler"
   ]
  },
  {
   "cell_type": "code",
   "execution_count": 156,
   "id": "78e3643e",
   "metadata": {},
   "outputs": [],
   "source": [
    "scaler = StandardScaler()"
   ]
  },
  {
   "cell_type": "code",
   "execution_count": 158,
   "id": "66cea657",
   "metadata": {},
   "outputs": [],
   "source": [
    "scaler.fit(X)\n",
    "X_scaled = scaler.transform(X)"
   ]
  },
  {
   "cell_type": "markdown",
   "id": "1476e1b0",
   "metadata": {},
   "source": [
    "#### Splitting data into training & testing data"
   ]
  },
  {
   "cell_type": "code",
   "execution_count": 163,
   "id": "cc321b51",
   "metadata": {},
   "outputs": [],
   "source": [
    "from sklearn.model_selection import train_test_split"
   ]
  },
  {
   "cell_type": "code",
   "execution_count": 191,
   "id": "a3bcf208",
   "metadata": {},
   "outputs": [],
   "source": [
    "X_train, X_test, y_train, y_test = train_test_split(X_scaled,y,test_size=0.2,random_state=101)"
   ]
  },
  {
   "cell_type": "markdown",
   "id": "9aa84af3",
   "metadata": {},
   "source": [
    "#### Building Random Forest"
   ]
  },
  {
   "cell_type": "code",
   "execution_count": 160,
   "id": "50faa7e4",
   "metadata": {},
   "outputs": [],
   "source": [
    "from sklearn.ensemble import RandomForestClassifier"
   ]
  },
  {
   "cell_type": "code",
   "execution_count": 162,
   "id": "30844865",
   "metadata": {},
   "outputs": [],
   "source": [
    "model = RandomForestClassifier(n_estimators=200)"
   ]
  },
  {
   "cell_type": "code",
   "execution_count": 192,
   "id": "d8c0b926",
   "metadata": {},
   "outputs": [
    {
     "data": {
      "text/html": [
       "<style>#sk-container-id-5 {color: black;}#sk-container-id-5 pre{padding: 0;}#sk-container-id-5 div.sk-toggleable {background-color: white;}#sk-container-id-5 label.sk-toggleable__label {cursor: pointer;display: block;width: 100%;margin-bottom: 0;padding: 0.3em;box-sizing: border-box;text-align: center;}#sk-container-id-5 label.sk-toggleable__label-arrow:before {content: \"▸\";float: left;margin-right: 0.25em;color: #696969;}#sk-container-id-5 label.sk-toggleable__label-arrow:hover:before {color: black;}#sk-container-id-5 div.sk-estimator:hover label.sk-toggleable__label-arrow:before {color: black;}#sk-container-id-5 div.sk-toggleable__content {max-height: 0;max-width: 0;overflow: hidden;text-align: left;background-color: #f0f8ff;}#sk-container-id-5 div.sk-toggleable__content pre {margin: 0.2em;color: black;border-radius: 0.25em;background-color: #f0f8ff;}#sk-container-id-5 input.sk-toggleable__control:checked~div.sk-toggleable__content {max-height: 200px;max-width: 100%;overflow: auto;}#sk-container-id-5 input.sk-toggleable__control:checked~label.sk-toggleable__label-arrow:before {content: \"▾\";}#sk-container-id-5 div.sk-estimator input.sk-toggleable__control:checked~label.sk-toggleable__label {background-color: #d4ebff;}#sk-container-id-5 div.sk-label input.sk-toggleable__control:checked~label.sk-toggleable__label {background-color: #d4ebff;}#sk-container-id-5 input.sk-hidden--visually {border: 0;clip: rect(1px 1px 1px 1px);clip: rect(1px, 1px, 1px, 1px);height: 1px;margin: -1px;overflow: hidden;padding: 0;position: absolute;width: 1px;}#sk-container-id-5 div.sk-estimator {font-family: monospace;background-color: #f0f8ff;border: 1px dotted black;border-radius: 0.25em;box-sizing: border-box;margin-bottom: 0.5em;}#sk-container-id-5 div.sk-estimator:hover {background-color: #d4ebff;}#sk-container-id-5 div.sk-parallel-item::after {content: \"\";width: 100%;border-bottom: 1px solid gray;flex-grow: 1;}#sk-container-id-5 div.sk-label:hover label.sk-toggleable__label {background-color: #d4ebff;}#sk-container-id-5 div.sk-serial::before {content: \"\";position: absolute;border-left: 1px solid gray;box-sizing: border-box;top: 0;bottom: 0;left: 50%;z-index: 0;}#sk-container-id-5 div.sk-serial {display: flex;flex-direction: column;align-items: center;background-color: white;padding-right: 0.2em;padding-left: 0.2em;position: relative;}#sk-container-id-5 div.sk-item {position: relative;z-index: 1;}#sk-container-id-5 div.sk-parallel {display: flex;align-items: stretch;justify-content: center;background-color: white;position: relative;}#sk-container-id-5 div.sk-item::before, #sk-container-id-5 div.sk-parallel-item::before {content: \"\";position: absolute;border-left: 1px solid gray;box-sizing: border-box;top: 0;bottom: 0;left: 50%;z-index: -1;}#sk-container-id-5 div.sk-parallel-item {display: flex;flex-direction: column;z-index: 1;position: relative;background-color: white;}#sk-container-id-5 div.sk-parallel-item:first-child::after {align-self: flex-end;width: 50%;}#sk-container-id-5 div.sk-parallel-item:last-child::after {align-self: flex-start;width: 50%;}#sk-container-id-5 div.sk-parallel-item:only-child::after {width: 0;}#sk-container-id-5 div.sk-dashed-wrapped {border: 1px dashed gray;margin: 0 0.4em 0.5em 0.4em;box-sizing: border-box;padding-bottom: 0.4em;background-color: white;}#sk-container-id-5 div.sk-label label {font-family: monospace;font-weight: bold;display: inline-block;line-height: 1.2em;}#sk-container-id-5 div.sk-label-container {text-align: center;}#sk-container-id-5 div.sk-container {/* jupyter's `normalize.less` sets `[hidden] { display: none; }` but bootstrap.min.css set `[hidden] { display: none !important; }` so we also need the `!important` here to be able to override the default hidden behavior on the sphinx rendered scikit-learn.org. See: https://github.com/scikit-learn/scikit-learn/issues/21755 */display: inline-block !important;position: relative;}#sk-container-id-5 div.sk-text-repr-fallback {display: none;}</style><div id=\"sk-container-id-5\" class=\"sk-top-container\"><div class=\"sk-text-repr-fallback\"><pre>RandomForestClassifier(n_estimators=200)</pre><b>In a Jupyter environment, please rerun this cell to show the HTML representation or trust the notebook. <br />On GitHub, the HTML representation is unable to render, please try loading this page with nbviewer.org.</b></div><div class=\"sk-container\" hidden><div class=\"sk-item\"><div class=\"sk-estimator sk-toggleable\"><input class=\"sk-toggleable__control sk-hidden--visually\" id=\"sk-estimator-id-5\" type=\"checkbox\" checked><label for=\"sk-estimator-id-5\" class=\"sk-toggleable__label sk-toggleable__label-arrow\">RandomForestClassifier</label><div class=\"sk-toggleable__content\"><pre>RandomForestClassifier(n_estimators=200)</pre></div></div></div></div></div>"
      ],
      "text/plain": [
       "RandomForestClassifier(n_estimators=200)"
      ]
     },
     "execution_count": 192,
     "metadata": {},
     "output_type": "execute_result"
    }
   ],
   "source": [
    "model.fit(X_train, y_train)"
   ]
  },
  {
   "cell_type": "code",
   "execution_count": 193,
   "id": "b6a2bdc3",
   "metadata": {},
   "outputs": [],
   "source": [
    "preds = model.predict(X_test)"
   ]
  },
  {
   "cell_type": "markdown",
   "id": "5e778ef6",
   "metadata": {},
   "source": [
    "#### Model Accuracy"
   ]
  },
  {
   "cell_type": "code",
   "execution_count": 194,
   "id": "03e11c8a",
   "metadata": {},
   "outputs": [],
   "source": [
    "from sklearn.metrics import classification_report, confusion_matrix"
   ]
  },
  {
   "cell_type": "code",
   "execution_count": 195,
   "id": "4e9581dd",
   "metadata": {},
   "outputs": [
    {
     "name": "stdout",
     "output_type": "stream",
     "text": [
      "              precision    recall  f1-score   support\n",
      "\n",
      "           0       0.69      0.54      0.61       379\n",
      "           1       0.86      0.95      0.90       930\n",
      "           2       0.63      0.57      0.60       100\n",
      "\n",
      "    accuracy                           0.81      1409\n",
      "   macro avg       0.73      0.69      0.70      1409\n",
      "weighted avg       0.80      0.81      0.80      1409\n",
      "\n"
     ]
    }
   ],
   "source": [
    "print(classification_report(y_test,preds))"
   ]
  },
  {
   "cell_type": "markdown",
   "id": "4169a566",
   "metadata": {},
   "source": [
    "## Conclusion\n",
    "\n",
    "- As we can see from the classification report, the accuracy of the model is **81%** which is not so good. The reason for the low accuracy of the model is because we removed many features from our data because they had NaN values as well."
   ]
  }
 ],
 "metadata": {
  "kernelspec": {
   "display_name": "Python 3 (ipykernel)",
   "language": "python",
   "name": "python3"
  },
  "language_info": {
   "codemirror_mode": {
    "name": "ipython",
    "version": 3
   },
   "file_extension": ".py",
   "mimetype": "text/x-python",
   "name": "python",
   "nbconvert_exporter": "python",
   "pygments_lexer": "ipython3",
   "version": "3.11.5"
  }
 },
 "nbformat": 4,
 "nbformat_minor": 5
}
